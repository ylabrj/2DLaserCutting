{
 "cells": [
  {
   "cell_type": "markdown",
   "metadata": {},
   "source": [
    "# ylab 2D CAD + Laser Cutting\n",
    "***\n",
    "Goals for tonight:\n",
    "\n",
    "-  Learn enough to create your own graduation plaque\n",
    "    -  Basic shapes\n",
    "    -  Text\n",
    "    -  Images\n",
    "    -  Creating a laser-ready file\n",
    "    \n",
    "-  If you follow our instructions, we'll have time for:\n",
    "    -  Making multiple name badges\n",
    "    -  3D box structure design"
   ]
  },
  {
   "cell_type": "markdown",
   "metadata": {},
   "source": [
    "\n",
    "***\n",
    "## CAD Program: DraftSight from Dassault Systemes\n",
    "\n",
    "\n",
    "-  Free! __[Download here](https://www.3ds.com/products-services/draftsight-cad-software/free-download/)__\n",
    "-  Professional interface -  compatible with  AutoCAD. \n",
    "    -  Other free programs not comparable\n",
    "-  Professional grade - Dassault has been at it longer than AutoCAD\n",
    "-  Parametric interface input\n",
    "    -  This is what we'll be teaching\n",
    "    -  Learn it, and you'll work faster and more accurately\n",
    "    -  Even more critical for move to 3D CAD\n",
    "-  Growth path to DraftSight Pro version or to full AutoCAD\n",
    "    -  \\\\$150 upgrade... watch for \\\\$99 specials\n",
    "    -  Some improved features useful for laser cutting"
   ]
  },
  {
   "cell_type": "markdown",
   "metadata": {},
   "source": [
    "## Laser cutting program:\n",
    "\n",
    "-  __Requires security dongle to operate__\n",
    "    -  We keep it locked up.\n",
    "-  Runs on PC beside laser cutter\n"
   ]
  },
  {
   "cell_type": "markdown",
   "metadata": {},
   "source": [
    "## File formats\n",
    "-  __.dwg__ : DraftSight's file format\n",
    "-  __.dxf__ : Required to export to laser cutter program\n",
    "    -  Don't _Save as_. We'll show you the export command.\n",
    "-  images: you must convert to __.dxf__ and import. "
   ]
  },
  {
   "cell_type": "markdown",
   "metadata": {},
   "source": [
    "## Basic CAD principles\n",
    "\n",
    "### Measurements and scale\n",
    "\n",
    "-  __Stick with metric as much as possible.__ Draftsight defaults to metric. It will translate through nicely. NASA learned this the hard way after screwing up some billion dollar spacecraft.\n",
    "    -  but... if using something already drawn in imperial units, stick with at. You can convert as a last step\n",
    "-  __Draw twice - if the first time is on paper.__\n",
    "    -  It will help you get your thoughts down and your basic measurements in place and calculated.\n",
    "    -  It will save you a lot of time."
   ]
  },
  {
   "cell_type": "markdown",
   "metadata": {},
   "source": [
    "# DraftSight Setup\n",
    "***\n",
    "-  __Start the program.__ Usually under the _Dassault Systemes_ folder\n",
    "-  __Set the interface to _Classic_\n",
    "\n",
    "    -  Box in top left corner - might say _Drafting and Annotation_\n",
    "    \n",
    "![classic_interface](classic_interface.png)\n",
    "\n",
    "-  __Set the measurements to metric__\n",
    "    -  __EASIEST WAY:__ *File -> New...* and use __standardiso__ template\n",
    "    -  HARD WAY:\n",
    "        -  __$Format -> Unit System$__\n",
    "        -  We'll use millimetres\n",
    "        -  __Note the boxes on the left side.__ We can set the unit system as:\n",
    "            -  $User Preferences$ for default for all drawings\n",
    "            -  $Drawing Settings$ for the current drawing\n"
   ]
  },
  {
   "cell_type": "markdown",
   "metadata": {},
   "source": [
    "## Draw a rectangle and a circle - and a line across the two\n",
    "- Rectangle: 100mm x 100mm, left bottom corner at 00\n",
    "- Circle: 50 mm radius, 10 mm right of the rectangle\n",
    "    -  What are the co-ordinates for the centre?\n",
    "\n",
    "- Use scroll wheel to zoom in/out, centre in rectangle - $no clicking!$\n",
    "- Draw a horizontal line crossing at center of circle and rectangle\n",
    "- Note contact points: corners, middle, center, quadrants\n",
    "\n",
    "![rectangle_and_circle](rectangle_and_circle.png)\n"
   ]
  },
  {
   "cell_type": "markdown",
   "metadata": {},
   "source": [
    "## General command usage rules\n",
    "-  First decide what you want to draw (line, circle, text, rectangle, etc)\n",
    "-  Enter the command\n",
    "-  Answer the questions - let it do the work for you!\n",
    "    -  Options for position (absolute or relative co-ordinates)\n",
    "    -  Options for sizing (dimensions or second co-ordinates\n",
    "-  Options can be extensize.\n",
    "    -  Text: alignment V/H, justification/centering, font size, kerning\n",
    "-  ESC to back out of current command\n",
    "-  CTRL-Z to undo commands"
   ]
  },
  {
   "cell_type": "markdown",
   "metadata": {},
   "source": [
    "## Our first drawing: Class Graduation Plaque\n",
    "\n",
    "-  $Exactly$ 136 mm X 50 mm\n",
    "-  You can lay it out however you want within that size. Must include:\n",
    "    -  Ylab logo: get it from ***\n",
    "    -  Your name\n",
    "    -  Graduation date\n",
    "    -  Mounting holes: exactly 2mm diameter, centered 3mm from edges\n",
    "    \n",
    "![generic_LC_certificate](generic_LC_certificate.png)\n",
    "    \n",
    "    \n",
    "    \n"
   ]
  },
  {
   "cell_type": "markdown",
   "metadata": {},
   "source": [
    "### The rules:\n",
    "-  Start at geometric co-ordinates 0,0\n",
    "-  Determine your text height before starting\n",
    "    -  Remember that you have 3 rows. Leave space.\n",
    "    -  Position of the text boxes?\n",
    "-  Determine centre point co-ordinates of mounting holes\n",
    "-  Key commands:\n",
    "    -  __rect__ to draw the rectangle\n",
    "    -  __note__ to enter the text\n",
    "    -  __insertblock__ to insert the logo\n"
   ]
  },
  {
   "cell_type": "markdown",
   "metadata": {},
   "source": [
    "## What are we cutting? What are we engraving?\n",
    "\n",
    "How does the laser cutter know? Colours! It's that simple\n",
    "\n",
    "-  We will manage it with __$layers$__\n",
    "\n",
    "![layer_control](layer_control.png)\n",
    "\n",
    "-  We are on default layer 0, with colour white\n",
    "-  Click on the hand at the left to add a layer\n",
    "    -  We can call it $cut_layer$\n",
    "    -  Be sure to add a different colour\n",
    "-  What things to we need to cut out?\n",
    "    \n",
    "\n",
    "\n"
   ]
  },
  {
   "cell_type": "markdown",
   "metadata": {},
   "source": [
    "# To finish: final text vectorization\n",
    "\n",
    "### Text needs to be vectorized - and it's not reversible\n",
    "### Always save the drawing first.\n",
    "\n",
    "1. Save the drawing in current state - add *\\_non-exploded* to file name\n",
    "2. Vectorize the text\n",
    "    -   Command: __explodetext__\n",
    "3. Export the file to __.dxf__ format\n",
    "    -  Command: __exportdxf__\n",
    "\n",
    "### Avoid saving  the  original file  with  exploded  text\n",
    "-  You will have to re-do all your text if you want to make a change"
   ]
  },
  {
   "cell_type": "markdown",
   "metadata": {},
   "source": [
    "***\n",
    "# Importing images\n",
    "***\n",
    "### The problem: unexploded text and regular (unvectorized) images won't show up when you import them to the laser cutter\n",
    "\n",
    "-  We know how to explode text, and we can do it inside DraftSight\n",
    "-  Images must be vectorized __*before*__ bringing them in\n",
    "    -  Our ylab logo was already vectorized\n",
    "-  Our favourite free way to vectorize an image:\n",
    "    -  __http://vectorization.org__\n",
    "    -  Be sure to export as __.dxf__\n",
    "    \n",
    "-  Open the image in a separate DraftSight window\n",
    "-  __scale__ command to bring it up/down to size required\n",
    "-  __copy__ and __paste__ into your drawing"
   ]
  },
  {
   "cell_type": "markdown",
   "metadata": {},
   "source": [
    "# Remember the command structure\n",
    "-  Command is what you want to do - SO ENTER IT FIRST\n",
    "-  Select what you want to do it on *after entering the command*\n",
    "    -  Example: __copy__ and then select what you want to copy\n",
    "    -  You can use mouse to select fields... then select more fields\n",
    "    -  __block__ to group and __explode__ to ungroup\n",
    "        -  When you want to break a rectangle into separate sides\n",
    "\n",
    "#### Sample of commands:\n",
    "    \n",
    "| Drawing | Modification | Editing |\n",
    "| --- | --- | --- |\n",
    "| line | fillet | copy |\n",
    "|rectangle|trim|paste|\n",
    "|circle|stretch|scale|\n",
    "|ellipse|block|rotate|\n",
    "|polygon|explode|offset|\n",
    "\n"
   ]
  },
  {
   "cell_type": "markdown",
   "metadata": {},
   "source": [
    "***\n",
    "\n",
    "# BREAK\n",
    "\n",
    "***"
   ]
  },
  {
   "cell_type": "markdown",
   "metadata": {},
   "source": [
    "# 3D Structures\n",
    "\n",
    "-  You can draw them flat\n",
    "-  But... best to learn by looking at examples\n",
    "\n",
    "Arduino and Raspberry Pie cases: __[Just google](http://lmgtfy.com/?q=arduino+case+laser+cut)__\n",
    "\n",
    "-  If you want something different... start with a box and modify\n",
    "-  __[This site gives lots of options and dividers](http://jeromeleary.com/laser)__\n",
    "-  Measure thickness of your material for accurate dimensions\n",
    "-  Make sure to note if dimensions are *internal* or *external\n",
    "    -  Adjust your dimensions accordingly\n",
    "    "
   ]
  },
  {
   "cell_type": "markdown",
   "metadata": {},
   "source": [
    "***\n",
    "# Project 2: Add Arduino mounts to a box\n",
    "***\n",
    "- Create and download a box\n",
    "- Size it however you want - maybe room for a breadboard?\n",
    "- Add the following elements using spec sheet provided:\n",
    "  -  Mounting holes\n",
    "  -  Power connector hole\n",
    "  -  USB cable hole\n"
   ]
  },
  {
   "cell_type": "markdown",
   "metadata": {},
   "source": [
    "***\n",
    "# Advanced notes\n",
    "***\n",
    "## Dimension lines and temporary lines\n",
    "\n",
    "Those measurement lines... like on our class drawings, and on blueprints.\n",
    "\n",
    "1. Create a new layer for them\n",
    "    -  Because we don't want to cut or engrave them\n",
    "    -  Give them a distinct colour\n",
    "1. Menu bar: *Dimension -> Linear*\n",
    "    -  click on the start and end point and pull it out.\n",
    "    -  if size is too small to read... click on it and edit font size\n",
    "    \n",
    "What if you don't have one of those nice end points to click on?\n",
    "-  draw a rectangle - say, 50 x 100 mm\n",
    "-  __explode__ it to break it into 4 sides\n",
    "-  offset one of the sides 10mm to get a new line.\n",
    "-  you can now use the reference points... and delete line when done"
   ]
  },
  {
   "cell_type": "markdown",
   "metadata": {},
   "source": [
    "# A gotcha: overlapping lines\n",
    "\n",
    "Example: you draw two rectangle boxes that abut each other. The sides are an exact overlap\n",
    "\n",
    "__*This is bad*__. Laser will try to cut twice!\n",
    "\n",
    "Two options:\n",
    "\n",
    "Method 1:\n",
    "-  __Explode__ the second rectangle\n",
    "-  __delete__ the duplicate side\n",
    "\n",
    "Method 2: Draw it withouth overlapping rectangle\n",
    "-  Draw the remaining sides of the rectangle as separate lines.\n",
    "-  Draw a bigger rectangle and a line to divide it\n",
    "\n",
    "#### DRAFTSIGHT PRO FINDS THESE FOR YOU.\n",
    "\n",
    "\n"
   ]
  },
  {
   "cell_type": "markdown",
   "metadata": {},
   "source": [
    "***\n",
    "# Making multiple of something\n",
    "***\n",
    "Imagine if you had to make a dozen graduation plaques... or maybe a dozen name badges\n",
    "\n",
    "-  Open your *non_exploded* graduation plaque file\n",
    "-  *Save as...* multi_non_exploded or something like that\n",
    "-  __scale__ to reduce the size of your plaque to a name tag\n",
    "-  Command: __array__\n",
    "    -  select the *linear* tab\n",
    "    -  Click on the tiny *specify entities* box\n",
    "    -  Arrange the layout\n",
    "        -  Number of rows and columns\n",
    "        -  Spacing is width/height of your object + spacing\n",
    "            -  i.e. if height is 50mm, then y should be 53 mm for 3 mm spacing\n",
    "\n"
   ]
  },
  {
   "cell_type": "markdown",
   "metadata": {},
   "source": [
    "***\n",
    "# Fonts across multiple text fields: simplenote\n",
    "\n",
    "__simplenote__ boxes use are linked with a DraftSight font label\n",
    "\n",
    "\n",
    "-  Default font is __Standard__ - but that's not a font you recognise\n",
    "-  DraftSight assigns its own names - and you associated a font with it\n",
    "-  Change the font associated with __Standard__ and *everything* in the drawing that has __Standard__ will change to the new font\n",
    "-  To change __Standard__ - or better yet to add another font:\n",
    "    -  __*Format -> Text Style*__\n",
    "        -  You will se the font associated with __Standard__\n",
    "        -  Click __New__ to add another font\n",
    "        \n",
    "### Existing text changes\n",
    "-  When you click on the text, options box appears on right\n"
   ]
  },
  {
   "cell_type": "markdown",
   "metadata": {},
   "source": [
    "# Some other commands\n",
    "\n",
    "__makeblock:__ named block\n",
    "__distance:__ provides the x and y distance components of a diagonal line"
   ]
  },
  {
   "cell_type": "markdown",
   "metadata": {},
   "source": [
    "# Second Night: Laser Cutting\n",
    "\n",
    "__[Access/print our laser cutter operation guide here](https://docs.google.com/document/d/1XCZnf18eK5xILSEerBqobN2-6fwMJ1i5ALteyN8rT3I/edit?usp=sharing)__\n",
    "\n",
    "__[Current materials and settings list here](https://docs.google.com/spreadsheets/d/1YmNwnlW8mNPvnfv7WvLRFarvwbX0lXMxOORXK10WafI/edit?usp=sharing)__\n"
   ]
  }
 ],
 "metadata": {
  "kernelspec": {
   "display_name": "Python 3",
   "language": "python",
   "name": "python3"
  },
  "language_info": {
   "codemirror_mode": {
    "name": "ipython",
    "version": 3
   },
   "file_extension": ".py",
   "mimetype": "text/x-python",
   "name": "python",
   "nbconvert_exporter": "python",
   "pygments_lexer": "ipython3",
   "version": "3.7.1"
  }
 },
 "nbformat": 4,
 "nbformat_minor": 2
}
